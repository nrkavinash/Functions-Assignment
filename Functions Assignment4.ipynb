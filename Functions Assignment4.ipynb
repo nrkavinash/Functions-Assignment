{
 "cells": [
  {
   "cell_type": "code",
   "execution_count": 62,
   "id": "3ea4d39c-bcb5-489d-88c9-b27c945793f9",
   "metadata": {},
   "outputs": [
    {
     "name": "stdout",
     "output_type": "stream",
     "text": [
      "[1, 2, 3, 4, 5, 6, 7, 8, 9, 10, 11, 12, 13, 14, 15, 16, 17, 18, 19, 20, 21, 22, 23, 24]\n"
     ]
    }
   ],
   "source": [
    "NUMBERS=range(1,25)\n",
    "print(list(NUMBERS))"
   ]
  },
  {
   "cell_type": "markdown",
   "id": "4477f635-0f32-4ab8-af6e-cf9567331450",
   "metadata": {},
   "source": [
    "# Q1 ANSWER"
   ]
  },
  {
   "cell_type": "code",
   "execution_count": 13,
   "id": "dc3c5217-1563-4a9d-80d0-1808d4a78958",
   "metadata": {},
   "outputs": [
    {
     "name": "stdout",
     "output_type": "stream",
     "text": [
      "1\n",
      "3\n",
      "5\n",
      "7\n",
      "9\n",
      "11\n",
      "13\n",
      "15\n",
      "17\n",
      "19\n",
      "21\n",
      "23\n"
     ]
    }
   ],
   "source": [
    "for i in range(1,25):\n",
    "    if i%2 !=0:\n",
    "        print(i)"
   ]
  },
  {
   "cell_type": "code",
   "execution_count": 17,
   "id": "bdbe983d-af2b-4746-aa03-7381dc0c2ecb",
   "metadata": {},
   "outputs": [
    {
     "name": "stdout",
     "output_type": "stream",
     "text": [
      "1 3 5 7 9 11 13 15 17 19 21 23 25 "
     ]
    }
   ],
   "source": [
    "start, end = 1,25\n",
    "for num in range(start,end+1):\n",
    "    if num%2 != 0:\n",
    "        print(num,end=\" \")"
   ]
  },
  {
   "cell_type": "markdown",
   "id": "cb43f5f3-ec06-4f98-ba58-0bf982310b48",
   "metadata": {},
   "source": [
    "# Q2 ANSWER"
   ]
  },
  {
   "cell_type": "code",
   "execution_count": 20,
   "id": "f98cf048-2f25-4793-8677-ba5e7f939791",
   "metadata": {},
   "outputs": [],
   "source": [
    "def example(*args):\n",
    "    return args"
   ]
  },
  {
   "cell_type": "code",
   "execution_count": 21,
   "id": "2d961390-7d95-4058-990e-d3e9ea8175a0",
   "metadata": {},
   "outputs": [
    {
     "data": {
      "text/plain": [
       "(2,)"
      ]
     },
     "execution_count": 21,
     "metadata": {},
     "output_type": "execute_result"
    }
   ],
   "source": [
    "example(2)"
   ]
  },
  {
   "cell_type": "code",
   "execution_count": 34,
   "id": "ce5d5ac3-f95d-4bf8-b156-3816700a5827",
   "metadata": {},
   "outputs": [],
   "source": [
    "def example1(**kwargs):\n",
    "    return kwargs"
   ]
  },
  {
   "cell_type": "code",
   "execution_count": 35,
   "id": "a504d80c-5c95-4734-98a6-0fa100546bac",
   "metadata": {},
   "outputs": [
    {
     "data": {
      "text/plain": [
       "<function __main__.example1(**kwargs)>"
      ]
     },
     "execution_count": 35,
     "metadata": {},
     "output_type": "execute_result"
    }
   ],
   "source": [
    "example1"
   ]
  },
  {
   "cell_type": "code",
   "execution_count": 37,
   "id": "7d3d20ac-263b-4f82-838d-3b067b7310f5",
   "metadata": {},
   "outputs": [
    {
     "data": {
      "text/plain": [
       "dict"
      ]
     },
     "execution_count": 37,
     "metadata": {},
     "output_type": "execute_result"
    }
   ],
   "source": [
    "type (example1())"
   ]
  },
  {
   "cell_type": "code",
   "execution_count": 39,
   "id": "e9076adb-7ab0-4c4a-b3b8-26f479f57a2e",
   "metadata": {},
   "outputs": [
    {
     "data": {
      "text/plain": [
       "{'kohli': 100,\n",
       " 'rohit': 100,\n",
       " 'eng': ('root', 'morgan', 'strokes'),\n",
       " 'd': [1, 2, 3, 4]}"
      ]
     },
     "execution_count": 40,
     "metadata": {},
     "output_type": "execute_result"
    }
   ],
   "source": [
    "example1=(kohli=100,rohit=100,eng=(\"root\",\"morgan\",\"strokes\"),d=[1,2,3,4])"
   ]
  },
  {
   "cell_type": "code",
   "execution_count": null,
   "id": "0a55b16e-ae6e-40c9-9204-9a390732793c",
   "metadata": {},
   "outputs": [
    {
     "data": {
      "text/plain": [
       "<function __main__.example1(**kwargs)>"
      ]
     },
     "execution_count": 41,
     "metadata": {},
     "output_type": "execute_result"
    }
   ],
   "source": []
  },
  {
   "cell_type": "markdown",
   "id": "dd4c4812-4ac9-4373-b5b0-3c45124b168e",
   "metadata": {},
   "source": [
    "# Q3 ANSWER"
   ]
  },
  {
   "cell_type": "code",
   "execution_count": 52,
   "id": "77036948-57f8-42c3-88b0-71fffe157859",
   "metadata": {},
   "outputs": [],
   "source": [
    "l=[2, 4, 6, 8, 10, 12, 14, 16, 18, 20]"
   ]
  },
  {
   "cell_type": "code",
   "execution_count": 49,
   "id": "64d51d5c-2e26-41ee-9fa1-21fb0735ecfd",
   "metadata": {},
   "outputs": [
    {
     "data": {
      "text/plain": [
       "[2, 4, 6, 8, 10, 12, 14, 16, 18, 20]"
      ]
     },
     "execution_count": 49,
     "metadata": {},
     "output_type": "execute_result"
    }
   ],
   "source": [
    "l"
   ]
  },
  {
   "cell_type": "code",
   "execution_count": 50,
   "id": "c59b388d-e053-4c27-b3a3-04f71cef72ad",
   "metadata": {},
   "outputs": [],
   "source": [
    "def test7(a) : \n",
    "    n = []\n",
    "    for i in a :\n",
    "            if type(i) == int or type(i) == float :           \n",
    "                n.append(i)\n",
    "    return n\n"
   ]
  },
  {
   "cell_type": "code",
   "execution_count": 51,
   "id": "cb862057-7276-41cb-b30c-4002b26361b3",
   "metadata": {},
   "outputs": [
    {
     "data": {
      "text/plain": [
       "[2, 4, 6, 8, 10]"
      ]
     },
     "execution_count": 51,
     "metadata": {},
     "output_type": "execute_result"
    }
   ],
   "source": [
    "test7(l)[:5]"
   ]
  },
  {
   "cell_type": "markdown",
   "id": "5b2a7c44-6b91-4922-af2c-d2c56e8d53a1",
   "metadata": {},
   "source": [
    "# Q4 ANSWER"
   ]
  },
  {
   "cell_type": "code",
   "execution_count": 58,
   "id": "755518fe-83e1-45d4-9023-77fe1be1a155",
   "metadata": {},
   "outputs": [
    {
     "name": "stdout",
     "output_type": "stream",
     "text": [
      "0\n",
      "1\n",
      "2\n",
      "3\n",
      "4\n"
     ]
    }
   ],
   "source": [
    "def seq(x):\n",
    "    for i in range(x):\n",
    "        yield i\n",
    "    #yield key alo used\n",
    "for i in seq(5):\n",
    "    print(i)\n"
   ]
  },
  {
   "cell_type": "markdown",
   "id": "19d145b1-0732-4bf1-87fc-87919d06518f",
   "metadata": {},
   "source": [
    "# Q5 ANSWER"
   ]
  },
  {
   "cell_type": "code",
   "execution_count": 59,
   "id": "89d87a00-9fcd-4d24-a236-570cfa8386f3",
   "metadata": {},
   "outputs": [
    {
     "name": "stdout",
     "output_type": "stream",
     "text": [
      "2\n",
      "3\n",
      "5\n",
      "7\n",
      "11\n",
      "13\n",
      "17\n",
      "19\n",
      "23\n",
      "29\n",
      "31\n",
      "37\n",
      "41\n",
      "43\n",
      "47\n",
      "53\n",
      "59\n",
      "61\n",
      "67\n",
      "71\n"
     ]
    }
   ],
   "source": [
    "def prime_numbers():\n",
    "    yield 2\n",
    "    primes = [2]\n",
    "    candidate = 3\n",
    "    while candidate < 1000:\n",
    "        is_prime = True\n",
    "        for prime in primes:\n",
    "            if prime**2 > candidate:\n",
    "                break\n",
    "            if candidate % prime == 0:\n",
    "                is_prime = False\n",
    "                break\n",
    "        if is_prime:\n",
    "            primes.append(candidate)\n",
    "            yield candidate\n",
    "        candidate += 2\n",
    "\n",
    "prime_gen = prime_numbers()\n",
    "for i in range(20):\n",
    "    print(next(prime_gen))"
   ]
  },
  {
   "cell_type": "code",
   "execution_count": null,
   "id": "3c29b6dc-4525-458b-8a64-ad115f27257d",
   "metadata": {},
   "outputs": [],
   "source": []
  }
 ],
 "metadata": {
  "kernelspec": {
   "display_name": "Python 3 (ipykernel)",
   "language": "python",
   "name": "python3"
  },
  "language_info": {
   "codemirror_mode": {
    "name": "ipython",
    "version": 3
   },
   "file_extension": ".py",
   "mimetype": "text/x-python",
   "name": "python",
   "nbconvert_exporter": "python",
   "pygments_lexer": "ipython3",
   "version": "3.10.8"
  }
 },
 "nbformat": 4,
 "nbformat_minor": 5
}
